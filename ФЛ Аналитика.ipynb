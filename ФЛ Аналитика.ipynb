{
 "cells": [
  {
   "cell_type": "code",
   "execution_count": 1,
   "metadata": {
    "hideCode": true,
    "hidePrompt": true,
    "slideshow": {
     "slide_type": "-"
    }
   },
   "outputs": [],
   "source": [
    "from sqlalchemy import create_engine\n",
    "import pandas as pd\n",
    "import numpy as np\n",
    "import matplotlib.pyplot\n",
    "import datetime\n",
    "import psycopg2"
   ]
  },
  {
   "cell_type": "code",
   "execution_count": 2,
   "metadata": {
    "hideCode": true,
    "hideOutput": false,
    "hidePrompt": true
   },
   "outputs": [
    {
     "data": {
      "text/plain": [
       "(datetime.date(2019, 10, 1),\n",
       " datetime.date(2020, 6, 23),\n",
       " datetime.timedelta(days=266))"
      ]
     },
     "execution_count": 2,
     "metadata": {},
     "output_type": "execute_result"
    }
   ],
   "source": [
    "START_DATE = datetime.date(2019, 10, 1)\n",
    "END_DATE = datetime.datetime.utcnow().date()\n",
    "START_DATE, END_DATE, END_DATE-START_DATE"
   ]
  },
  {
   "cell_type": "code",
   "execution_count": 5,
   "metadata": {
    "hideCode": true,
    "hidePrompt": true
   },
   "outputs": [],
   "source": [
    "from fl_settings import user, password, server, port, db\n",
    "DBPATH = 'postgresql://{0}:{1}@{2}:{3}/{4}?application_name=notebook'.format(\n",
    "    user, password, server, port, db)\n",
    "engine = create_engine(DBPATH)"
   ]
  },
  {
   "cell_type": "code",
   "execution_count": 11,
   "metadata": {
    "hideCode": true,
    "hidePrompt": true
   },
   "outputs": [
    {
     "data": {
      "text/html": [
       "<div>\n",
       "<style scoped>\n",
       "    .dataframe tbody tr th:only-of-type {\n",
       "        vertical-align: middle;\n",
       "    }\n",
       "\n",
       "    .dataframe tbody tr th {\n",
       "        vertical-align: top;\n",
       "    }\n",
       "\n",
       "    .dataframe thead th {\n",
       "        text-align: right;\n",
       "    }\n",
       "</style>\n",
       "<table border=\"1\" class=\"dataframe\">\n",
       "  <thead>\n",
       "    <tr style=\"text-align: right;\">\n",
       "      <th></th>\n",
       "      <th>account_level</th>\n",
       "      <th>count</th>\n",
       "    </tr>\n",
       "  </thead>\n",
       "  <tbody>\n",
       "    <tr>\n",
       "      <th>0</th>\n",
       "      <td>UPRID</td>\n",
       "      <td>7</td>\n",
       "    </tr>\n",
       "    <tr>\n",
       "      <th>1</th>\n",
       "      <td>ANONYMOUS</td>\n",
       "      <td>103</td>\n",
       "    </tr>\n",
       "  </tbody>\n",
       "</table>\n",
       "</div>"
      ],
      "text/plain": [
       "  account_level  count\n",
       "0         UPRID      7\n",
       "1     ANONYMOUS    103"
      ]
     },
     "execution_count": 11,
     "metadata": {},
     "output_type": "execute_result"
    }
   ],
   "source": [
    "sql_account_level = 'select account_level, count(*) from client group by account_level;'\n",
    "df_account_level = pd.read_sql_query(sql_account_level, con=engine)\n",
    "df_account_level"
   ]
  },
  {
   "cell_type": "code",
   "execution_count": 67,
   "metadata": {
    "hideCode": true,
    "hidePrompt": true
   },
   "outputs": [
    {
     "data": {
      "text/plain": [
       "<matplotlib.axes._subplots.AxesSubplot at 0x1f3a349b4e0>"
      ]
     },
     "execution_count": 67,
     "metadata": {},
     "output_type": "execute_result"
    },
    {
     "data": {
      "image/png": "[encoded data removed]",
      "text/plain": [
       "<Figure size 1440x360 with 1 Axes>"
      ]
     },
     "metadata": {
      "needs_background": "light"
     },
     "output_type": "display_data"
    }
   ],
   "source": [
    "df_account_level.plot.barh(x='account_level', y='count', rot=0, figsize=(20,5))"
   ]
  },
  {
   "cell_type": "code",
   "execution_count": 26,
   "metadata": {
    "hideCode": true,
    "hidePrompt": true
   },
   "outputs": [
    {
     "name": "stdout",
     "output_type": "stream",
     "text": [
      "размер датасета:(13, 65)\n"
     ]
    }
   ],
   "source": [
    "sql_tx = \"\"\"\n",
    "select \n",
    "(cs.data->>'operType')::bigint as type,\n",
    "(cs.data->>'amount')::float as sum_amount,\n",
    "(cs.data->>'debet')::bool as debet,\n",
    "(data->>'docDate')::timestamp,\n",
    "*\n",
    "from card_statement cs \n",
    "left join card c on cs.card_id = c.id\n",
    "left join account a on a.id = c.account_id\n",
    "left join client cl on cl.id = a.client_id\n",
    "left join bank b on b.id = cl.bank_id;\n",
    "\"\"\"\n",
    "with engine.connect() as conn:\n",
    "    df_tx = pd.read_sql_query(sql_tx, con=conn).sort_values(by='timestamp')\n",
    "\n",
    "# сделать колонки уникальными    \n",
    "cols=pd.Series(df_tx.columns)\n",
    "for dup in cols[cols.duplicated()].unique(): \n",
    "    cols[cols[cols == dup].index.values.tolist()] = [dup + '.' + str(i) if i != 0 else dup for i in range(sum(cols == dup))]\n",
    "df_tx.columns=cols\n",
    "\n",
    "# поле даты\n",
    "df_tx['tx_date'] = df_tx.timestamp.dt.date\n",
    "# изменение суммы на карте\n",
    "df_tx['tx_amount'] = df_tx.apply(lambda x: x['sum_amount'] if x['debet']==False else -x['sum_amount'], axis=1)\n",
    "# баланс по всем картам сразу\n",
    "df_tx['tx_cumsum']=df_tx['tx_amount'].cumsum()\n",
    "\n",
    "print('размер датасета:{}'.format(df_tx.shape))"
   ]
  },
  {
   "cell_type": "code",
   "execution_count": 27,
   "metadata": {
    "hideCode": true,
    "hidePrompt": true
   },
   "outputs": [
    {
     "data": {
      "text/html": [
       "<div>\n",
       "<style scoped>\n",
       "    .dataframe tbody tr th:only-of-type {\n",
       "        vertical-align: middle;\n",
       "    }\n",
       "\n",
       "    .dataframe tbody tr th {\n",
       "        vertical-align: top;\n",
       "    }\n",
       "\n",
       "    .dataframe thead th {\n",
       "        text-align: right;\n",
       "    }\n",
       "</style>\n",
       "<table border=\"1\" class=\"dataframe\">\n",
       "  <thead>\n",
       "    <tr style=\"text-align: right;\">\n",
       "      <th></th>\n",
       "      <th>type</th>\n",
       "      <th>sum_amount</th>\n",
       "      <th>debet</th>\n",
       "      <th>timestamp</th>\n",
       "      <th>card_id</th>\n",
       "      <th>statement_balance</th>\n",
       "      <th>tx_date</th>\n",
       "      <th>tx_amount</th>\n",
       "      <th>tx_cumsum</th>\n",
       "    </tr>\n",
       "  </thead>\n",
       "  <tbody>\n",
       "    <tr>\n",
       "      <th>6</th>\n",
       "      <td>2</td>\n",
       "      <td>100.0</td>\n",
       "      <td>False</td>\n",
       "      <td>2020-04-27 21:24:47</td>\n",
       "      <td>3034</td>\n",
       "      <td>100.0</td>\n",
       "      <td>2020-04-27</td>\n",
       "      <td>100.0</td>\n",
       "      <td>100.0</td>\n",
       "    </tr>\n",
       "    <tr>\n",
       "      <th>7</th>\n",
       "      <td>2</td>\n",
       "      <td>100.0</td>\n",
       "      <td>False</td>\n",
       "      <td>2020-04-28 10:25:51</td>\n",
       "      <td>3034</td>\n",
       "      <td>200.0</td>\n",
       "      <td>2020-04-28</td>\n",
       "      <td>100.0</td>\n",
       "      <td>200.0</td>\n",
       "    </tr>\n",
       "    <tr>\n",
       "      <th>8</th>\n",
       "      <td>1</td>\n",
       "      <td>55.0</td>\n",
       "      <td>True</td>\n",
       "      <td>2020-04-29 01:06:00</td>\n",
       "      <td>3034</td>\n",
       "      <td>145.0</td>\n",
       "      <td>2020-04-29</td>\n",
       "      <td>-55.0</td>\n",
       "      <td>145.0</td>\n",
       "    </tr>\n",
       "    <tr>\n",
       "      <th>9</th>\n",
       "      <td>2</td>\n",
       "      <td>100.0</td>\n",
       "      <td>False</td>\n",
       "      <td>2020-04-29 14:53:25</td>\n",
       "      <td>3034</td>\n",
       "      <td>245.0</td>\n",
       "      <td>2020-04-29</td>\n",
       "      <td>100.0</td>\n",
       "      <td>245.0</td>\n",
       "    </tr>\n",
       "    <tr>\n",
       "      <th>10</th>\n",
       "      <td>1</td>\n",
       "      <td>45.0</td>\n",
       "      <td>True</td>\n",
       "      <td>2020-04-30 01:05:48</td>\n",
       "      <td>3034</td>\n",
       "      <td>200.0</td>\n",
       "      <td>2020-04-30</td>\n",
       "      <td>-45.0</td>\n",
       "      <td>200.0</td>\n",
       "    </tr>\n",
       "    <tr>\n",
       "      <th>4</th>\n",
       "      <td>7</td>\n",
       "      <td>35.0</td>\n",
       "      <td>True</td>\n",
       "      <td>2020-05-01 14:25:02</td>\n",
       "      <td>3034</td>\n",
       "      <td>165.0</td>\n",
       "      <td>2020-05-01</td>\n",
       "      <td>-35.0</td>\n",
       "      <td>165.0</td>\n",
       "    </tr>\n",
       "    <tr>\n",
       "      <th>11</th>\n",
       "      <td>1</td>\n",
       "      <td>25.0</td>\n",
       "      <td>True</td>\n",
       "      <td>2020-05-01 14:25:03</td>\n",
       "      <td>3034</td>\n",
       "      <td>140.0</td>\n",
       "      <td>2020-05-01</td>\n",
       "      <td>-25.0</td>\n",
       "      <td>140.0</td>\n",
       "    </tr>\n",
       "    <tr>\n",
       "      <th>12</th>\n",
       "      <td>2</td>\n",
       "      <td>50.0</td>\n",
       "      <td>False</td>\n",
       "      <td>2020-05-04 14:47:43</td>\n",
       "      <td>3034</td>\n",
       "      <td>190.0</td>\n",
       "      <td>2020-05-04</td>\n",
       "      <td>50.0</td>\n",
       "      <td>190.0</td>\n",
       "    </tr>\n",
       "    <tr>\n",
       "      <th>5</th>\n",
       "      <td>1</td>\n",
       "      <td>55.0</td>\n",
       "      <td>True</td>\n",
       "      <td>2020-05-06 01:05:09</td>\n",
       "      <td>3034</td>\n",
       "      <td>135.0</td>\n",
       "      <td>2020-05-06</td>\n",
       "      <td>-55.0</td>\n",
       "      <td>135.0</td>\n",
       "    </tr>\n",
       "    <tr>\n",
       "      <th>0</th>\n",
       "      <td>2</td>\n",
       "      <td>12.0</td>\n",
       "      <td>False</td>\n",
       "      <td>2020-05-06 21:23:35</td>\n",
       "      <td>3034</td>\n",
       "      <td>147.0</td>\n",
       "      <td>2020-05-06</td>\n",
       "      <td>12.0</td>\n",
       "      <td>147.0</td>\n",
       "    </tr>\n",
       "    <tr>\n",
       "      <th>1</th>\n",
       "      <td>2</td>\n",
       "      <td>10.0</td>\n",
       "      <td>False</td>\n",
       "      <td>2020-05-13 11:25:39</td>\n",
       "      <td>3034</td>\n",
       "      <td>157.0</td>\n",
       "      <td>2020-05-13</td>\n",
       "      <td>10.0</td>\n",
       "      <td>157.0</td>\n",
       "    </tr>\n",
       "    <tr>\n",
       "      <th>2</th>\n",
       "      <td>2</td>\n",
       "      <td>10.0</td>\n",
       "      <td>False</td>\n",
       "      <td>2020-05-13 12:45:50</td>\n",
       "      <td>3034</td>\n",
       "      <td>167.0</td>\n",
       "      <td>2020-05-13</td>\n",
       "      <td>10.0</td>\n",
       "      <td>167.0</td>\n",
       "    </tr>\n",
       "    <tr>\n",
       "      <th>3</th>\n",
       "      <td>2</td>\n",
       "      <td>7.0</td>\n",
       "      <td>False</td>\n",
       "      <td>2020-05-18 15:43:40</td>\n",
       "      <td>3034</td>\n",
       "      <td>174.0</td>\n",
       "      <td>2020-05-18</td>\n",
       "      <td>7.0</td>\n",
       "      <td>174.0</td>\n",
       "    </tr>\n",
       "  </tbody>\n",
       "</table>\n",
       "</div>"
      ],
      "text/plain": [
       "    type  sum_amount  debet           timestamp  card_id  statement_balance  \\\n",
       "6      2       100.0  False 2020-04-27 21:24:47     3034              100.0   \n",
       "7      2       100.0  False 2020-04-28 10:25:51     3034              200.0   \n",
       "8      1        55.0   True 2020-04-29 01:06:00     3034              145.0   \n",
       "9      2       100.0  False 2020-04-29 14:53:25     3034              245.0   \n",
       "10     1        45.0   True 2020-04-30 01:05:48     3034              200.0   \n",
       "4      7        35.0   True 2020-05-01 14:25:02     3034              165.0   \n",
       "11     1        25.0   True 2020-05-01 14:25:03     3034              140.0   \n",
       "12     2        50.0  False 2020-05-04 14:47:43     3034              190.0   \n",
       "5      1        55.0   True 2020-05-06 01:05:09     3034              135.0   \n",
       "0      2        12.0  False 2020-05-06 21:23:35     3034              147.0   \n",
       "1      2        10.0  False 2020-05-13 11:25:39     3034              157.0   \n",
       "2      2        10.0  False 2020-05-13 12:45:50     3034              167.0   \n",
       "3      2         7.0  False 2020-05-18 15:43:40     3034              174.0   \n",
       "\n",
       "       tx_date  tx_amount  tx_cumsum  \n",
       "6   2020-04-27      100.0      100.0  \n",
       "7   2020-04-28      100.0      200.0  \n",
       "8   2020-04-29      -55.0      145.0  \n",
       "9   2020-04-29      100.0      245.0  \n",
       "10  2020-04-30      -45.0      200.0  \n",
       "4   2020-05-01      -35.0      165.0  \n",
       "11  2020-05-01      -25.0      140.0  \n",
       "12  2020-05-04       50.0      190.0  \n",
       "5   2020-05-06      -55.0      135.0  \n",
       "0   2020-05-06       12.0      147.0  \n",
       "1   2020-05-13       10.0      157.0  \n",
       "2   2020-05-13       10.0      167.0  \n",
       "3   2020-05-18        7.0      174.0  "
      ]
     },
     "execution_count": 27,
     "metadata": {},
     "output_type": "execute_result"
    }
   ],
   "source": [
    "df_tx[['type', 'sum_amount', 'debet', 'timestamp', 'card_id', 'statement_balance', \n",
    "       'tx_date', 'tx_amount', 'tx_cumsum']]"
   ]
  },
  {
   "cell_type": "markdown",
   "metadata": {
    "hidePrompt": false
   },
   "source": [
    "1 - покупка по карте\n",
    "\n",
    "7 - перевод на другую карту\n",
    "\n",
    "2,3,4 - пополнения по карте(перевод с банкомата, перевод с другой карты и что-то еще)\n",
    "\n",
    "5 - снятие денег через банкомат"
   ]
  },
  {
   "cell_type": "code",
   "execution_count": 23,
   "metadata": {
    "hideCode": true,
    "hidePrompt": true
   },
   "outputs": [
    {
     "data": {
      "text/plain": [
       "<matplotlib.axes._subplots.AxesSubplot at 0x1f39ab75240>"
      ]
     },
     "execution_count": 23,
     "metadata": {},
     "output_type": "execute_result"
    },
    {
     "data": {
      "image/png": "[encoded data removed]",
      "text/plain": [
       "<Figure size 1440x360 with 1 Axes>"
      ]
     },
     "metadata": {
      "needs_background": "light"
     },
     "output_type": "display_data"
    }
   ],
   "source": [
    "df_tx.type.value_counts().plot.barh(rot=0, figsize=(20,5))"
   ]
  },
  {
   "cell_type": "code",
   "execution_count": 24,
   "metadata": {
    "hideCode": true,
    "hidePrompt": true
   },
   "outputs": [
    {
     "name": "stdout",
     "output_type": "stream",
     "text": [
      "Сумма покупок по картам: 180.0\n",
      "Сумма переводов с карт на др. карты: 35.0\n",
      "Сумма пополнений по картам: 389.0\n",
      "Количество пополнений по картам: 8\n",
      "Средняя сумма пополнения: 48.625\n"
     ]
    }
   ],
   "source": [
    "sum_tx_buy = df_tx[df_tx.type==1].sum_amount.sum()\n",
    "sum_tx_card2card = df_tx[df_tx.type==7].sum_amount.sum()\n",
    "print('Сумма покупок по картам: {}'.format(sum_tx_buy))\n",
    "print('Сумма переводов с карт на др. карты: {}'.format(sum_tx_card2card))\n",
    "df_tx_in = df_tx[df_tx.type.isin([2,3,4])]\n",
    "sum_tx_in = df_tx_in.sum_amount.sum()\n",
    "count_tx_in = df_tx_in.shape[0]\n",
    "avg_tx_in = df_tx_in.sum_amount.mean()\n",
    "print('Сумма пополнений по картам: {}'.format(sum_tx_in))\n",
    "print('Количество пополнений по картам: {}'.format(count_tx_in))\n",
    "print('Средняя сумма пополнения: {}'.format(avg_tx_in))"
   ]
  },
  {
   "cell_type": "code",
   "execution_count": 64,
   "metadata": {
    "hideCode": true,
    "hidePrompt": true
   },
   "outputs": [
    {
     "data": {
      "text/plain": [
       "<matplotlib.axes._subplots.AxesSubplot at 0x1f3a0617588>"
      ]
     },
     "execution_count": 64,
     "metadata": {},
     "output_type": "execute_result"
    },
    {
     "data": {
      "image/png": "[encoded data removed]",
      "text/plain": [
       "<Figure size 1440x288 with 1 Axes>"
      ]
     },
     "metadata": {
      "needs_background": "light"
     },
     "output_type": "display_data"
    }
   ],
   "source": [
    "# для графиков по датам\n",
    "# https://pandas.pydata.org/pandas-docs/stable/user_guide/visualization.html\n",
    "\n",
    "# покупки по картам\n",
    "df_tx_buy = df_tx[df_tx.type==1].groupby('tx_date')['sum_amount'].sum()\n",
    "df_tx_buy.plot(figsize=(20,4), kind='bar')"
   ]
  },
  {
   "cell_type": "code",
   "execution_count": 61,
   "metadata": {
    "hideCode": true,
    "hidePrompt": true
   },
   "outputs": [
    {
     "data": {
      "text/plain": [
       "<matplotlib.axes._subplots.AxesSubplot at 0x1f39d2d8b00>"
      ]
     },
     "execution_count": 61,
     "metadata": {},
     "output_type": "execute_result"
    },
    {
     "data": {
      "image/png": "[encoded data removed]",
      "text/plain": [
       "<Figure size 1440x288 with 1 Axes>"
      ]
     },
     "metadata": {
      "needs_background": "light"
     },
     "output_type": "display_data"
    }
   ],
   "source": [
    "# переводы с карты на карту\n",
    "df_tx_card2card = df_tx[df_tx.type==7].groupby('tx_date')['sum_amount'].sum()\n",
    "df_tx_card2card.plot(figsize=(20,4), kind='bar')"
   ]
  },
  {
   "cell_type": "code",
   "execution_count": 65,
   "metadata": {
    "hideCode": true,
    "hidePrompt": true
   },
   "outputs": [
    {
     "data": {
      "text/plain": [
       "array([<matplotlib.axes._subplots.AxesSubplot object at 0x000001F3A2FE89B0>,\n",
       "       <matplotlib.axes._subplots.AxesSubplot object at 0x000001F3A31A39E8>,\n",
       "       <matplotlib.axes._subplots.AxesSubplot object at 0x000001F3A31CEE48>],\n",
       "      dtype=object)"
      ]
     },
     "execution_count": 65,
     "metadata": {},
     "output_type": "execute_result"
    },
    {
     "data": {
      "image/png": "[encoded data removed]",
      "text/plain": [
       "<Figure size 1440x720 with 3 Axes>"
      ]
     },
     "metadata": {
      "needs_background": "light"
     },
     "output_type": "display_data"
    }
   ],
   "source": [
    "# пополнения\n",
    "df_group = df_tx[df_tx.type.isin([2,3,4])].groupby('tx_date')['sum_amount'].agg(['sum', 'mean', 'count'])\n",
    "df_group.plot(subplots=True, figsize=(20,10), kind='bar', stacked=False) #bar, area, line"
   ]
  },
  {
   "cell_type": "code",
   "execution_count": 29,
   "metadata": {
    "hideCode": true,
    "hidePrompt": true
   },
   "outputs": [
    {
     "name": "stdout",
     "output_type": "stream",
     "text": [
      "Суммарный баланс по картам на дату просмотра: 174.0\n",
      "Количество пополненных карт на дату просмотра: 1\n"
     ]
    }
   ],
   "source": [
    "DATE = datetime.datetime(2020, 6, 23)\n",
    "date_balance = df_tx[df_tx['timestamp']<=DATE+datetime.timedelta(days=1)]['tx_cumsum'].iloc[-1]\n",
    "date_cards = df_tx[(df_tx.type.isin([2,3,4])) & \n",
    "                   (df_tx['timestamp']<=DATE+datetime.timedelta(days=1))].card_id.nunique()\n",
    "print('Суммарный баланс по картам на дату просмотра: {}'.format(date_balance))\n",
    "print('Количество пополненных карт на дату просмотра: {}'.format(date_cards))"
   ]
  }
 ],
 "metadata": {
  "celltoolbar": "Hide code",
  "kernelspec": {
   "display_name": "Python 3",
   "language": "python",
   "name": "python3"
  },
  "language_info": {
   "codemirror_mode": {
    "name": "ipython",
    "version": 3
   },
   "file_extension": ".py",
   "mimetype": "text/x-python",
   "name": "python",
   "nbconvert_exporter": "python",
   "pygments_lexer": "ipython3",
   "version": "3.7.3"
  }
 },
 "nbformat": 4,
 "nbformat_minor": 2
}
