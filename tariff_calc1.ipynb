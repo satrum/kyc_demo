{
 "cells": [
  {
   "cell_type": "code",
   "execution_count": 1,
   "metadata": {},
   "outputs": [],
   "source": [
    "import pandas as pd\n",
    "import numpy as np\n",
    "import matplotlib.pyplot as plt\n",
    "from sqlalchemy import create_engine\n",
    "import datetime\n",
    "import time\n",
    "#import psycopg2\n",
    "import ipywidgets as widgets\n",
    "from ipywidgets import interact, interact_manual, interactive_output\n",
    "#from IPython.display import display, HTML\n",
    "\n",
    "from plotly.subplots import make_subplots\n",
    "import plotly.graph_objects as go\n",
    "\n",
    "import qgrid\n",
    "import random"
   ]
  },
  {
   "cell_type": "markdown",
   "metadata": {},
   "source": [
    "еще сделать:\n",
    "\n",
    "    в banks добавить время обслуживания с-по."
   ]
  },
  {
   "cell_type": "code",
   "execution_count": 51,
   "metadata": {},
   "outputs": [],
   "source": [
    "amount_start = 100.0\n",
    "amount_end = 2000.0\n",
    "amount_step = 100.0\n",
    "fix = 5.0\n",
    "percent = 1.5\n",
    "\n",
    "style = {}\n",
    "#style = {'max_width': '10%'}\n",
    "#layout=Layout(width='50%', height='80px')\n",
    "\n",
    "w_amount_name  = widgets.Label('Сумма операции', style=style)\n",
    "w_amount_start = widgets.FloatText(value=amount_start, description='START:', disabled=False, style=style)\n",
    "w_amount_end   = widgets.FloatText(value=amount_end, description='END:', disabled=False, style=style)\n",
    "w_amount_step = widgets.FloatText(value=amount_step, description='STEP:', disabled=False, style=style)\n",
    "w_fix = widgets.FloatText(value=fix, description='FIX:', disabled=False, style=style)\n",
    "w_percent = widgets.FloatText(value=percent, description='PERCENT:', disabled=False, style=style)\n",
    "w_vbox_amount = widgets.VBox([w_amount_name, w_amount_start, w_amount_end, w_amount_step, w_fix, w_percent])\n",
    "\n",
    "\n",
    "banks = [\n",
    "    {'name': 'BANK1', 'fix': 10.0, 'percent': 1.0, 'min': 0.0, 'max': 10000.0},\n",
    "    {'name': 'BANK2', 'fix': 0.0, 'percent': 2.0, 'min': 0.0, 'max': 10000.0},\n",
    "    {'name': 'BANK3', 'fix': 0.0, 'percent': 1.6, 'min': 10.0, 'max': 2000.0}\n",
    "]\n",
    "\n",
    "banks_lst = [w_vbox_amount]\n",
    "for bank in banks:\n",
    "    w_vbox = widgets.VBox([\n",
    "        widgets.Label(bank['name']),\n",
    "        widgets.FloatText(description='fix:', value=bank['fix']),\n",
    "        widgets.FloatText(description='percent:', value=bank['percent']),\n",
    "        widgets.FloatText(description='min:', value=bank['min']),\n",
    "        widgets.FloatText(description='max:', value=bank['max']),\n",
    "    ])\n",
    "    banks_lst.append(w_vbox)"
   ]
  },
  {
   "cell_type": "code",
   "execution_count": 52,
   "metadata": {},
   "outputs": [],
   "source": [
    "w = widgets.HBox(banks_lst)\n",
    "\n",
    "'''\n",
    "client_label = widgets.Label(value='0')\n",
    "def handle_change(change):\n",
    "    client_label.value = change.new\n",
    "w.observe(handle_change, names='value')\n",
    "'''\n",
    "\n",
    "kwargs = {}\n",
    "for k,v in enumerate(w.children):\n",
    "    #print(k,v)\n",
    "    for x,y in enumerate(v.children):\n",
    "        #print(x,y)\n",
    "        kwargs['{}_{}'.format(k,x)] = y\n",
    "\n",
    "#print(kwargs)\n",
    "\n",
    "df_external = pd.DataFrame()\n",
    "\n",
    "        \n",
    "def myfunc(**kwargs):\n",
    "    global df_external\n",
    "    banks = []\n",
    "    bank_dict = {\n",
    "        0: 'name',\n",
    "        1: 'fix',\n",
    "        2: 'percent',\n",
    "        3: 'min',\n",
    "        4: 'max'\n",
    "    }\n",
    "    #print(banks)\n",
    "    for k,v in kwargs.items():\n",
    "        #print(k,v)\n",
    "        x,y = int(k.split('_')[0]), int(k.split('_')[1])\n",
    "        #print(x,y)\n",
    "        if len(banks)<x:\n",
    "            banks.append({})\n",
    "        if x>0:\n",
    "            banks[x-1][bank_dict[y]]=v\n",
    "    #print(banks)\n",
    "        \n",
    "    start = kwargs['0_1']\n",
    "    end = kwargs['0_2']\n",
    "    step = kwargs['0_3']\n",
    "    myfix = kwargs['0_4']\n",
    "    mypercent = kwargs['0_5']\n",
    "    \n",
    "    bank_cols = [bank['name'] for bank in banks]\n",
    "    df = pd.DataFrame(columns = ['x']+bank_cols+['MIN', 'DELTA'])\n",
    "    \n",
    "    for x in range(int(start), int(end), int(step)):\n",
    "        row = [x]\n",
    "        for bank in banks:\n",
    "            fix = bank['fix']\n",
    "            percent = bank['percent']*x/100\n",
    "            full = fix + percent\n",
    "            if full<bank['min']:\n",
    "                result = bank['min']\n",
    "            elif full>bank['max']:\n",
    "                result = bank['max']\n",
    "            else:\n",
    "                result = full\n",
    "            row.append(result)\n",
    "        \n",
    "        minbank = min(row[1:])\n",
    "        idx = row.index(minbank)-1\n",
    "        row.append(bank_cols[idx])\n",
    "        row.append(myfix+mypercent*x/100-minbank)\n",
    "        df.loc[len(df)] = row\n",
    "\n",
    "    #df_external = df.copy()\n",
    "    '''\n",
    "    fig = go.Figure()\n",
    "    for col in df.columns:\n",
    "        #if col!='x':  \n",
    "        fig.add_trace(go.Scatter(x=df['x'], y=df[col], mode='lines', name=col))\n",
    "    fig.update_layout(height=500, title_text=\"Bank tariffs\", showlegend=False)\n",
    "    fig.show()\n",
    "    '''\n",
    "    plt.figure()\n",
    "    df.plot(x='x', y=bank_cols+['DELTA'], subplots=False, figsize=(20, 5))\n",
    "    #client_label.value = str(random.random())\n",
    "    plt.show()\n",
    "    display(df)"
   ]
  },
  {
   "cell_type": "code",
   "execution_count": 53,
   "metadata": {},
   "outputs": [
    {
     "data": {
      "application/vnd.jupyter.widget-view+json": {
       "model_id": "0072502370224e1d9940a7ae1a39b73a",
       "version_major": 2,
       "version_minor": 0
      },
      "text/plain": [
       "HBox(children=(VBox(children=(Label(value='Сумма операции'), FloatText(value=100.0, description='START:'), Flo…"
      ]
     },
     "metadata": {},
     "output_type": "display_data"
    },
    {
     "data": {
      "application/vnd.jupyter.widget-view+json": {
       "model_id": "fbdfb87710ec452b9607277c2d8f7886",
       "version_major": 2,
       "version_minor": 0
      },
      "text/plain": [
       "Output()"
      ]
     },
     "metadata": {},
     "output_type": "display_data"
    }
   ],
   "source": [
    "out = interactive_output(myfunc, kwargs)\n",
    "display(w, out)"
   ]
  },
  {
   "cell_type": "raw",
   "metadata": {},
   "source": [
    "def show_df(text):\n",
    "    print(text)\n",
    "    #display(df_external)\n",
    "form_client_operations = interact(show_df, text = client_label)"
   ]
  }
 ],
 "metadata": {
  "hide_input": true,
  "kernelspec": {
   "display_name": "Python 3",
   "language": "python",
   "name": "python3"
  },
  "language_info": {
   "codemirror_mode": {
    "name": "ipython",
    "version": 3
   },
   "file_extension": ".py",
   "mimetype": "text/x-python",
   "name": "python",
   "nbconvert_exporter": "python",
   "pygments_lexer": "ipython3",
   "version": "3.7.3"
  },
  "toc": {
   "base_numbering": 1,
   "nav_menu": {},
   "number_sections": true,
   "sideBar": true,
   "skip_h1_title": true,
   "title_cell": "Table of Contents",
   "title_sidebar": "Contents",
   "toc_cell": false,
   "toc_position": {},
   "toc_section_display": true,
   "toc_window_display": false
  },
  "varInspector": {
   "cols": {
    "lenName": 16,
    "lenType": 16,
    "lenVar": 40
   },
   "kernels_config": {
    "python": {
     "delete_cmd_postfix": "",
     "delete_cmd_prefix": "del ",
     "library": "var_list.py",
     "varRefreshCmd": "print(var_dic_list())"
    },
    "r": {
     "delete_cmd_postfix": ") ",
     "delete_cmd_prefix": "rm(",
     "library": "var_list.r",
     "varRefreshCmd": "cat(var_dic_list()) "
    }
   },
   "types_to_exclude": [
    "module",
    "function",
    "builtin_function_or_method",
    "instance",
    "_Feature"
   ],
   "window_display": false
  }
 },
 "nbformat": 4,
 "nbformat_minor": 4
}
